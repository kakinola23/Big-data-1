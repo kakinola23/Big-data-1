{
 "cells": [
  {
   "cell_type": "code",
   "execution_count": 1,
   "id": "upset-conjunction",
   "metadata": {},
   "outputs": [],
   "source": [
    "#Initialise the spark Session\n",
    "import findspark\n",
    "findspark.init()\n",
    "from pyspark.sql import SparkSession\n",
    "spark = SparkSession.builder.appName('DatasetToCompleteTheSixSparkExercises') .getOrCreate()\n",
    "from pyspark.sql.functions import *\n",
    "from pyspark.sql import Row\n",
    "from pyspark.sql.types import IntegerType\n",
    "from pyspark.sql import functions as F\n",
    "from pyspark.sql.window import *"
   ]
  },
  {
   "cell_type": "code",
   "execution_count": 3,
   "id": "incredible-explanation",
   "metadata": {},
   "outputs": [],
   "source": [
    "df_1 = spark.read.parquet('hdfs:///R07/sales_parquet/*.parquet', infetSchema=True, header= True)\n",
    "# df = spark.read.parquet('DatasetToCompleteTheSixSparkExercises/products_parquet', inferSchema=True, header=True)\n",
    "df_2 = spark.read.parquet('hdfs:///R07/products_parquet/*.parquet', infetSchema=True, header= True)\n",
    "df_3 = spark.read.parquet('hdfs:///R07/sellers_parquet/*.parquet', infetSchema=True, header= True)"
   ]
  },
  {
   "cell_type": "code",
   "execution_count": 4,
   "id": "complimentary-deadline",
   "metadata": {},
   "outputs": [
    {
     "name": "stdout",
     "output_type": "stream",
     "text": [
      "+---------+-----------+------------+\n",
      "|seller_id|seller_name|daily_target|\n",
      "+---------+-----------+------------+\n",
      "|        0|   seller_0|     2500000|\n",
      "|        1|   seller_1|      257237|\n",
      "|        2|   seller_2|      754188|\n",
      "|        3|   seller_3|      310462|\n",
      "|        4|   seller_4|     1532808|\n",
      "+---------+-----------+------------+\n",
      "only showing top 5 rows\n",
      "\n"
     ]
    }
   ],
   "source": [
    "# df_1.show(5)\n",
    "df_3.show(5)"
   ]
  },
  {
   "cell_type": "code",
   "execution_count": 5,
   "id": "moral-explosion",
   "metadata": {},
   "outputs": [
    {
     "data": {
      "text/plain": [
       "DataFrame[date: string, count(product_id): bigint]"
      ]
     },
     "execution_count": 5,
     "metadata": {},
     "output_type": "execute_result"
    }
   ],
   "source": [
    "df_1.groupBy(df_1.date).agg(F.countDistinct(df_1.product_id))"
   ]
  },
  {
   "cell_type": "markdown",
   "id": "urban-shooting",
   "metadata": {},
   "source": [
    "## Question 1. How many distinct products are sold each day?"
   ]
  },
  {
   "cell_type": "code",
   "execution_count": 81,
   "id": "requested-limitation",
   "metadata": {},
   "outputs": [
    {
     "name": "stdout",
     "output_type": "stream",
     "text": [
      "+----------+----------------------------+\n",
      "|      date|no of distinct products sold|\n",
      "+----------+----------------------------+\n",
      "|2020-07-01|                      100337|\n",
      "|2020-07-02|                       99807|\n",
      "|2020-07-03|                      100017|\n",
      "|2020-07-04|                       99791|\n",
      "|2020-07-05|                       99796|\n",
      "|2020-07-06|                      100765|\n",
      "|2020-07-07|                       99756|\n",
      "|2020-07-08|                       99662|\n",
      "|2020-07-09|                      100501|\n",
      "|2020-07-10|                       98973|\n",
      "+----------+----------------------------+\n",
      "\n"
     ]
    }
   ],
   "source": [
    "product_count = df_1.groupBy(df_1.date).agg(F.countDistinct(df_1.product_id).alias(\"no of distinct products sold\")).orderBy('date')\n",
    "product_count.show()\n"
   ]
  },
  {
   "cell_type": "markdown",
   "id": "deluxe-argument",
   "metadata": {},
   "source": [
    "### Question 2 What is the average daily revenue of each product?"
   ]
  },
  {
   "cell_type": "code",
   "execution_count": 82,
   "id": "generous-calculation",
   "metadata": {},
   "outputs": [
    {
     "name": "stdout",
     "output_type": "stream",
     "text": [
      "+------------------+\n",
      "|   average revenue|\n",
      "+------------------+\n",
      "|1246.1338560822878|\n",
      "+------------------+\n",
      "\n"
     ]
    }
   ],
   "source": [
    "df2_df1_join = df_1.join(df_2, df_1[\"product_id\"] == df_2[\"product_id\"], \"inner\")\n",
    "a = df2_df1_join.agg(avg(df_1['num_pieces_sold'] * df_2['price']).alias('average revenue'))\n",
    "a.show()"
   ]
  },
  {
   "cell_type": "markdown",
   "id": "corresponding-circular",
   "metadata": {},
   "source": [
    "### Question 3. What is the average daily revenue of each product?\n"
   ]
  },
  {
   "cell_type": "code",
   "execution_count": 86,
   "id": "sized-currency",
   "metadata": {},
   "outputs": [],
   "source": [
    "df2_df1_avg = df2_df1_join.groupBy(df_1[\"product_id\"], df_1[\"date\"]).agg(avg(df_1['num_pieces_sold'] * df_2['price']).alias(\"revenue\"))"
   ]
  },
  {
   "cell_type": "code",
   "execution_count": 97,
   "id": "dynamic-watson",
   "metadata": {},
   "outputs": [
    {
     "name": "stdout",
     "output_type": "stream",
     "text": [
      "+----------+---------------------+\n",
      "|product_id|daily average revenue|\n",
      "+----------+---------------------+\n",
      "|  10005243|               4312.0|\n",
      "|  10023464|               1121.0|\n",
      "|  10050363|               1764.0|\n",
      "|  10089524|               5300.0|\n",
      "|  10122266|               2225.0|\n",
      "|  10134574|               3864.0|\n",
      "|  10150439|               5112.0|\n",
      "|  10158822|               3010.0|\n",
      "|  10160884|               4628.0|\n",
      "|  10172594|               4860.0|\n",
      "|  10175294|               3248.0|\n",
      "|   1017716|               5412.0|\n",
      "|  10200802|               1722.0|\n",
      "|  10215353|               1232.0|\n",
      "|  10218345|              13818.0|\n",
      "|  10220977|              10032.0|\n",
      "|  10255853|               3120.0|\n",
      "|  10288525|               8316.0|\n",
      "|  10304712|               1152.0|\n",
      "|  10324080|                650.0|\n",
      "+----------+---------------------+\n",
      "only showing top 20 rows\n",
      "\n"
     ]
    }
   ],
   "source": [
    "df2_df1_avg.groupBy('product_id').agg(avg('Revenue').alias(\"daily average revenue\")).show()\n",
    "# df2_df1_avg.groupBy('product_id').agg(avg('Revenue')).filter(col('product_id')== '0').show()"
   ]
  },
  {
   "cell_type": "markdown",
   "id": "subsequent-garbage",
   "metadata": {},
   "source": [
    "### Question 4. For each seller, what is the average % contribution of an order to the sellers daily quota?"
   ]
  },
  {
   "cell_type": "code",
   "execution_count": 14,
   "id": "dutch-valentine",
   "metadata": {},
   "outputs": [],
   "source": [
    "df_seller_sales = df_1.join(df_3, df_1[\"seller_id\"] == df_3[\"seller_id\"], \"inner\" ).withColumn(\n",
    "    \"ratio\", df_1[\"num_pieces_sold\"]/df_3[\"daily_target\"])"
   ]
  },
  {
   "cell_type": "code",
   "execution_count": 91,
   "id": "corresponding-batman",
   "metadata": {},
   "outputs": [
    {
     "name": "stdout",
     "output_type": "stream",
     "text": [
      "+---------+-----------------------+\n",
      "|seller_id|average contribution(%)|\n",
      "+---------+-----------------------+\n",
      "|        0|   2.019885898946922...|\n",
      "|        1|   1.964233366461015E-4|\n",
      "|        2|   6.690408001060484E-5|\n",
      "|        3|   1.628885370565939...|\n",
      "|        4|   3.296428039825817E-5|\n",
      "|        5|   4.211073965904023E-5|\n",
      "|        6|   4.782147194369122E-5|\n",
      "|        7|   2.595228787788170...|\n",
      "|        8|   9.213030375408863E-5|\n",
      "|        9|   3.837913136180238E-5|\n",
      "+---------+-----------------------+\n",
      "\n"
     ]
    }
   ],
   "source": [
    "df_seller_sales.groupBy(df_3[\"seller_id\"]).agg(avg(\"ratio\").alias(\"average contribution(%)\")).orderBy('seller_id').show()"
   ]
  },
  {
   "cell_type": "markdown",
   "id": "subjective-credit",
   "metadata": {},
   "source": [
    "### Question 5. Who are the second most selling and the least selling persons (sellers) for each product?"
   ]
  },
  {
   "cell_type": "code",
   "execution_count": 92,
   "id": "social-spectrum",
   "metadata": {},
   "outputs": [],
   "source": [
    "# Join seller & product tables \n",
    "df_sellers_join = df_1.join(df_3, df_3['seller_id'] == df_1['seller_id'], 'inner').groupBy('product_id', df_3['seller_id']).agg(sum('num_pieces_sold').alias('num_pieces_sold'))\\\n",
    ".orderBy('product_id', 'num_pieces_sold')"
   ]
  },
  {
   "cell_type": "code",
   "execution_count": 17,
   "id": "blind-cartridge",
   "metadata": {},
   "outputs": [
    {
     "name": "stdout",
     "output_type": "stream",
     "text": [
      "+----------+---------+---------------+\n",
      "|product_id|seller_id|num_pieces_sold|\n",
      "+----------+---------+---------------+\n",
      "|         0|        0|   9.59445802E8|\n",
      "|  10000006|        4|           39.0|\n",
      "|  10000047|        9|           29.0|\n",
      "|  10000271|        5|           51.0|\n",
      "|   1000030|        5|           89.0|\n",
      "|   1000042|        9|           47.0|\n",
      "|  10000429|        6|            6.0|\n",
      "|  10000601|        8|            6.0|\n",
      "|  10000607|        2|           30.0|\n",
      "|   1000065|        7|           33.0|\n",
      "|  10000712|        7|           59.0|\n",
      "|  10000715|        6|           51.0|\n",
      "|  10000865|        1|           67.0|\n",
      "|  10000971|        9|           50.0|\n",
      "|   1000101|        5|           61.0|\n",
      "|  10001082|        1|            4.0|\n",
      "|  10001097|        3|           92.0|\n",
      "|  10001174|        9|           71.0|\n",
      "|  10001234|        5|           68.0|\n",
      "|   1000124|        9|           73.0|\n",
      "+----------+---------+---------------+\n",
      "only showing top 20 rows\n",
      "\n"
     ]
    }
   ],
   "source": [
    "df_sellers_join.show()"
   ]
  },
  {
   "cell_type": "code",
   "execution_count": 93,
   "id": "fossil-chamber",
   "metadata": {},
   "outputs": [
    {
     "name": "stdout",
     "output_type": "stream",
     "text": [
      "+----------+---------+---------------+----------+\n",
      "|product_id|seller_id|num_pieces_sold|sellerRank|\n",
      "+----------+---------+---------------+----------+\n",
      "|  32602520|        9|           12.0|         3|\n",
      "|   3534470|        3|           25.0|         3|\n",
      "|  20774718|        9|            5.0|         3|\n",
      "|  40496308|        5|           52.0|         3|\n",
      "|  28592106|        5|           42.0|         3|\n",
      "|  34681047|        5|           19.0|         3|\n",
      "|  52606213|        7|           28.0|         3|\n",
      "|  14542470|        5|            3.0|         3|\n",
      "|  36269838|        8|           16.0|         3|\n",
      "|  67723231|        5|           26.0|         3|\n",
      "|  72017876|        1|           20.0|         3|\n",
      "|  35669461|        4|           39.0|         3|\n",
      "|  18182299|        7|           15.0|         3|\n",
      "|  69790381|        5|            8.0|         3|\n",
      "|  10978356|        7|           27.0|         3|\n",
      "|  31136332|        9|           57.0|         3|\n",
      "|  17944574|        8|           15.0|         3|\n",
      "|  61475460|        7|           41.0|         3|\n",
      "|  19986717|        1|            9.0|         3|\n",
      "|  57735075|        9|           55.0|         3|\n",
      "+----------+---------+---------------+----------+\n",
      "only showing top 20 rows\n",
      "\n"
     ]
    }
   ],
   "source": [
    "#Seller Rank added\n",
    "df_product_rank  = Window.partitionBy(\"product_id\").orderBy(col(\"num_pieces_sold\").desc())\n",
    "\n",
    "df_sellers_join = df_sellers_join.withColumn(\"sellerRank\", row_number().over(df_product_rank))\\\n",
    ".orderBy(col(\"sellerRank\").desc())\n",
    "\n",
    "df_sellers_join.show()"
   ]
  },
  {
   "cell_type": "code",
   "execution_count": 94,
   "id": "artistic-pastor",
   "metadata": {},
   "outputs": [
    {
     "name": "stdout",
     "output_type": "stream",
     "text": [
      "+----------+---------+---------------+----------+---------+\n",
      "|product_id|seller_id|num_pieces_sold|sellerRank|worstRank|\n",
      "+----------+---------+---------------+----------+---------+\n",
      "|  36269838|        8|           16.0|         3|        3|\n",
      "|  61475460|        9|           88.0|         1|        3|\n",
      "|  40496308|        8|           68.0|         1|        3|\n",
      "|  14542470|        9|           35.0|         2|        3|\n",
      "|  61475460|        7|           41.0|         3|        3|\n",
      "|  19986717|        2|           53.0|         1|        3|\n",
      "|  36269838|        1|           38.0|         2|        3|\n",
      "|  31136332|        8|           99.0|         1|        3|\n",
      "|  17944574|        2|           32.0|         1|        3|\n",
      "|  14542470|        2|           62.0|         1|        3|\n",
      "|  61475460|        6|           64.0|         2|        3|\n",
      "|  19986717|        9|           18.0|         2|        3|\n",
      "|  19986717|        1|            9.0|         3|        3|\n",
      "|  40496308|        9|           58.0|         2|        3|\n",
      "|  36269838|        4|           85.0|         1|        3|\n",
      "|  31136332|        1|           85.0|         2|        3|\n",
      "|  31136332|        9|           57.0|         3|        3|\n",
      "|  17944574|        5|           17.0|         2|        3|\n",
      "|  17944574|        8|           15.0|         3|        3|\n",
      "|  14542470|        5|            3.0|         3|        3|\n",
      "+----------+---------+---------------+----------+---------+\n",
      "only showing top 20 rows\n",
      "\n"
     ]
    }
   ],
   "source": [
    "df_product_max_rank  = Window.partitionBy(\"product_id\")\n",
    "\n",
    "df_sellers_join = df_sellers_join.withColumn(\"worstRank\", max(col(\"sellerRank\")).over(df_product_max_rank))\\\n",
    ".orderBy(col(\"worstRank\").desc())\n",
    "\n",
    "df_sellers_join.show()"
   ]
  },
  {
   "cell_type": "code",
   "execution_count": 95,
   "id": "documented-engine",
   "metadata": {},
   "outputs": [
    {
     "name": "stdout",
     "output_type": "stream",
     "text": [
      "+----------+---------+---------------+----------+---------+-------------------+-------------+\n",
      "|product_id|seller_id|num_pieces_sold|sellerRank|worstRank|second_most_selling|least_selling|\n",
      "+----------+---------+---------------+----------+---------+-------------------+-------------+\n",
      "|  31136332|        8|           99.0|         1|        3|               null|         null|\n",
      "|  31136332|        9|           57.0|         3|        3|               null|            9|\n",
      "|  31136332|        1|           85.0|         2|        3|                  1|         null|\n",
      "|  17944574|        2|           32.0|         1|        3|               null|         null|\n",
      "|  17944574|        8|           15.0|         3|        3|               null|            8|\n",
      "|  17944574|        5|           17.0|         2|        3|                  5|         null|\n",
      "|  14542470|        2|           62.0|         1|        3|               null|         null|\n",
      "|  14542470|        5|            3.0|         3|        3|               null|            5|\n",
      "|  14542470|        9|           35.0|         2|        3|                  9|         null|\n",
      "|  61475460|        9|           88.0|         1|        3|               null|         null|\n",
      "|  61475460|        7|           41.0|         3|        3|               null|            7|\n",
      "|  61475460|        6|           64.0|         2|        3|                  6|         null|\n",
      "|  19986717|        2|           53.0|         1|        3|               null|         null|\n",
      "|  19986717|        1|            9.0|         3|        3|               null|            1|\n",
      "|  19986717|        9|           18.0|         2|        3|                  9|         null|\n",
      "|  36269838|        4|           85.0|         1|        3|               null|         null|\n",
      "|  36269838|        8|           16.0|         3|        3|               null|            8|\n",
      "|  36269838|        1|           38.0|         2|        3|                  1|         null|\n",
      "|  40496308|        8|           68.0|         1|        3|               null|         null|\n",
      "|  40496308|        5|           52.0|         3|        3|               null|            5|\n",
      "+----------+---------+---------------+----------+---------+-------------------+-------------+\n",
      "only showing top 20 rows\n",
      "\n"
     ]
    }
   ],
   "source": [
    "def second_most_selling(sellerRank, worstRank, seller_id):\n",
    "    if worstRank == 1:\n",
    "        return seller_id\n",
    "    elif sellerRank == 2:\n",
    "        return seller_id  \n",
    "    \n",
    "def least_selling(sellerRank, worstRank, seller_id):\n",
    "    if worstRank == 1:\n",
    "        return seller_id\n",
    "    elif sellerRank == worstRank:\n",
    "        return seller_id\n",
    "\n",
    "second = udf(second_most_selling, StringType())\n",
    "least = udf(least_selling, StringType())\n",
    "\n",
    "df_sellers_join = df_sellers_join.withColumn('second_most_selling', second('sellerRank', 'worstRank', 'seller_id'))\n",
    "df_sellers_join = df_sellers_join.withColumn('least_selling', least('sellerRank', 'worstRank', 'seller_id'))\n",
    "\n",
    "df_sellers_join.show()"
   ]
  },
  {
   "cell_type": "code",
   "execution_count": 96,
   "id": "mobile-fever",
   "metadata": {},
   "outputs": [
    {
     "name": "stdout",
     "output_type": "stream",
     "text": [
      "+----------+---------------+----------+-------------+\n",
      "|product_id|second_top_sell|least_sell|no_of_sellers|\n",
      "+----------+---------------+----------+-------------+\n",
      "|  32602520|              2|         9|            3|\n",
      "|   3534470|              9|         3|            3|\n",
      "|  20774718|              3|         9|            3|\n",
      "|  40496308|              9|         5|            3|\n",
      "|  28592106|              4|         5|            3|\n",
      "|  34681047|              6|         5|            3|\n",
      "|  52606213|              9|         7|            3|\n",
      "|  14542470|              9|         5|            3|\n",
      "|  36269838|              1|         8|            3|\n",
      "|  67723231|              6|         5|            3|\n",
      "|  72017876|              4|         1|            3|\n",
      "|  35669461|              3|         4|            3|\n",
      "|  18182299|              4|         7|            3|\n",
      "|  69790381|              3|         5|            3|\n",
      "|  10978356|              9|         7|            3|\n",
      "|  31136332|              1|         9|            3|\n",
      "|  17944574|              5|         8|            3|\n",
      "|  61475460|              6|         7|            3|\n",
      "|  19986717|              9|         1|            3|\n",
      "|  57735075|              1|         9|            3|\n",
      "+----------+---------------+----------+-------------+\n",
      "only showing top 20 rows\n",
      "\n"
     ]
    }
   ],
   "source": [
    "df_sellers_join = df_sellers_join.groupBy('product_id')\\\n",
    ".agg(max('second_most_selling').alias('second_top_sell'),\\\n",
    "     max('least_selling').alias('least_sell'),\\\n",
    "     count('seller_id').alias('no_of_sellers'))\\\n",
    ".orderBy(col('no_of_sellers').desc())\n",
    "\n",
    "df_sellers_join.show()"
   ]
  }
 ],
 "metadata": {
  "kernelspec": {
   "display_name": "PySpark",
   "language": "python",
   "name": "pyspark"
  },
  "language_info": {
   "codemirror_mode": {
    "name": "ipython",
    "version": 3
   },
   "file_extension": ".py",
   "mimetype": "text/x-python",
   "name": "python",
   "nbconvert_exporter": "python",
   "pygments_lexer": "ipython3",
   "version": "3.6.9"
  }
 },
 "nbformat": 4,
 "nbformat_minor": 5
}
